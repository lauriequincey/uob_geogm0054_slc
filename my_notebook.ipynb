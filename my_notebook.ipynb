{
 "cells": [
  {
   "cell_type": "code",
   "execution_count": 2,
   "id": "70244452-1398-4a37-8a4d-9b4f169e205b",
   "metadata": {},
   "outputs": [],
   "source": [
    "import numpy as np\n",
    "import matplotlib.pyplot as plt\n",
    "from calendar import month_name"
   ]
  },
  {
   "cell_type": "code",
   "execution_count": 3,
   "id": "88a39a19-28ee-46fb-8784-2dae62758547",
   "metadata": {},
   "outputs": [],
   "source": [
    "year, month, tmax, tmin = np.loadtxt('rossonwyedata.txt',skiprows=7,usecols=(0,1,2,3),unpack=True)"
   ]
  },
  {
   "cell_type": "raw",
   "id": "97b0b082-0847-48c2-988d-a639413be66a",
   "metadata": {},
   "source": [
    "month_nums = range(1,13) # 1 to 12, inclusive\n",
    "month_names = [month_name[mm] + f' ({mm})'  for mm in month_nums]\n",
    "\n",
    "#create a list of 1D arrays, 1 for each month\n",
    "tmax_by_month = [tmax[month == mm] for mm in month_nums]\n",
    "\n",
    "#HINT reverse the month order to place January at the top \n",
    "tmax_by_month.reverse() \n",
    "month_names.reverse()\n",
    "\n",
    "#boxplot produces one box-and whisker for each 1D array in a list\n",
    "fig, ax = plt.subplots(1,1)\n",
    "__ = ax.boxplot(tmax_by_month, vert=False)\n",
    "# HINT add the keyword argument labels=month_names (Python < 3.9) or tick_labels=month_names (Python >= 3.9)\n",
    "__ = ax.set_xlabel(r'Temperature ($^\\circ$C)')\n",
    "__ = ax.set_ylabel('Month')\n",
    "__ = ax.set_yticklabels(labels = month_names)\n",
    "__ = ax.set_title(f'maximum temperatures, {int(np.min(year))} to {int(np.max(year))}')"
   ]
  },
  {
   "cell_type": "markdown",
   "id": "309fcb5e-078e-4597-814e-8895e232c5dd",
   "metadata": {},
   "source": [
    "## A new section\n",
    "**Ooh Hello World!** erwiesioqpdwueidsoiu"
   ]
  },
  {
   "cell_type": "code",
   "execution_count": 7,
   "id": "82370a0b-8787-43f2-a9f7-70d9edd01785",
   "metadata": {},
   "outputs": [
    {
     "ename": "SyntaxError",
     "evalue": "invalid syntax (2470497009.py, line 1)",
     "output_type": "error",
     "traceback": [
      "\u001b[1;36m  Cell \u001b[1;32mIn[7], line 1\u001b[1;36m\u001b[0m\n\u001b[1;33m    <<<<<<< LOCAL CELL DELETED >>>>>>>\u001b[0m\n\u001b[1;37m    ^\u001b[0m\n\u001b[1;31mSyntaxError\u001b[0m\u001b[1;31m:\u001b[0m invalid syntax\n"
     ]
    }
   ],
   "source": [
    "<<<<<<< LOCAL CELL DELETED >>>>>>>\n",
    "month_nums = range(1,13) # 1 to 12, inclusive\n",
    "month_names = [month_name[mm] + f' ({mm})'  for mm in month_nums]\n",
    "\n",
    "#create a list of 1D arrays, 1 for each month\n",
    "tmax_by_month = [tmax[month == mm] for mm in month_nums]\n",
    "\n",
    "#HINT reverse the month order to place January at the top \n",
    "tmax_by_month.reverse() \n",
    "month_names.reverse()\n",
    "\n",
    "#boxplot produces one box-and whisker for each 1D array in a list\n",
    "fig, ax = plt.subplots(1,1)\n",
    "__ = ax.boxplot(tmax_by_month, vert=False)\n",
    "# HINT add the keyword argument labels=month_names (Python < 3.9) or tick_labels=month_names (Python >= 3.9)\n",
    "__ = ax.set_xlabel(r'Temperature ($^\\circ$C)')\n",
    "__ = ax.set_ylabel('Month')\n",
    "__ = ax.set_yticklabels(labels = month_names)\n",
    "__ = ax.set_title(f'Oslo maximum temperatures, {int(np.min(year))} to {int(np.max(year))}')\n"
   ]
  },
  {
   "cell_type": "code",
   "execution_count": null,
   "id": "40bfe168-f05d-423a-8548-ed6761c4ac3d",
   "metadata": {},
   "outputs": [],
   "source": []
  },
  {
   "cell_type": "code",
   "execution_count": null,
   "id": "766b8364-b25b-49d7-ad32-20bd9e64b404",
   "metadata": {},
   "outputs": [],
   "source": []
  },
  {
   "cell_type": "code",
   "execution_count": null,
   "id": "63320450-ff8b-42ce-a7fb-1302ad4045d0",
   "metadata": {},
   "outputs": [],
   "source": []
  }
 ],
 "metadata": {
  "kernelspec": {
   "display_name": "Python 3 (ipykernel)",
   "language": "python",
   "name": "python3"
  },
  "language_info": {
   "codemirror_mode": {
    "name": "ipython",
    "version": 3
   },
   "file_extension": ".py",
   "mimetype": "text/x-python",
   "name": "python",
   "nbconvert_exporter": "python",
   "pygments_lexer": "ipython3",
   "version": "3.12.7"
  }
 },
 "nbformat": 4,
 "nbformat_minor": 5
}
